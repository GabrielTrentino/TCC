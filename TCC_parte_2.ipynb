{
  "nbformat": 4,
  "nbformat_minor": 0,
  "metadata": {
    "colab": {
      "name": "TCC parte 2.ipynb",
      "provenance": [],
      "authorship_tag": "ABX9TyNedGK+8e7k2gVu9osSak/w",
      "include_colab_link": true
    },
    "kernelspec": {
      "name": "python3",
      "display_name": "Python 3"
    }
  },
  "cells": [
    {
      "cell_type": "markdown",
      "metadata": {
        "id": "view-in-github",
        "colab_type": "text"
      },
      "source": [
        "<a href=\"https://colab.research.google.com/github/GabrielTrentino/TCC/blob/master/TCC_parte_2.ipynb\" target=\"_parent\"><img src=\"https://colab.research.google.com/assets/colab-badge.svg\" alt=\"Open In Colab\"/></a>"
      ]
    },
    {
      "cell_type": "markdown",
      "metadata": {
        "id": "Gj9DrafvGpZi",
        "colab_type": "text"
      },
      "source": [
        "#Importando Bibliotecas:"
      ]
    },
    {
      "cell_type": "code",
      "metadata": {
        "id": "nlkwkpkTzx4a",
        "colab_type": "code",
        "outputId": "444dbcda-2344-413e-e64f-315e9af51939",
        "colab": {
          "base_uri": "https://localhost:8080/",
          "height": 72
        }
      },
      "source": [
        "import pandas as pd\n",
        "import seaborn as sns\n",
        "import matplotlib.pyplot as plt\n",
        "import numpy as np\n",
        "\n",
        "from sklearn.linear_model import LinearRegression\n",
        "from sklearn import metrics\n",
        "from sklearn.model_selection import train_test_split"
      ],
      "execution_count": 1,
      "outputs": [
        {
          "output_type": "stream",
          "text": [
            "/usr/local/lib/python3.6/dist-packages/statsmodels/tools/_testing.py:19: FutureWarning: pandas.util.testing is deprecated. Use the functions in the public API at pandas.testing instead.\n",
            "  import pandas.util.testing as tm\n"
          ],
          "name": "stderr"
        }
      ]
    },
    {
      "cell_type": "markdown",
      "metadata": {
        "id": "fkEBmL76Grlp",
        "colab_type": "text"
      },
      "source": [
        "#Importando o Dataset:"
      ]
    },
    {
      "cell_type": "code",
      "metadata": {
        "id": "9Rx636xm1GL2",
        "colab_type": "code",
        "outputId": "f5785ef4-8a4f-4033-94db-3fda4bf5145d",
        "colab": {
          "base_uri": "https://localhost:8080/",
          "height": 77
        }
      },
      "source": [
        "data_path = \"https://raw.githubusercontent.com/GabrielTrentino/TCC/master/DadosGerais%20-%20Plan1.csv\"\n",
        "df = pd.read_csv(data_path)\n",
        "df.head(1)"
      ],
      "execution_count": 2,
      "outputs": [
        {
          "output_type": "execute_result",
          "data": {
            "text/html": [
              "<div>\n",
              "<style scoped>\n",
              "    .dataframe tbody tr th:only-of-type {\n",
              "        vertical-align: middle;\n",
              "    }\n",
              "\n",
              "    .dataframe tbody tr th {\n",
              "        vertical-align: top;\n",
              "    }\n",
              "\n",
              "    .dataframe thead th {\n",
              "        text-align: right;\n",
              "    }\n",
              "</style>\n",
              "<table border=\"1\" class=\"dataframe\">\n",
              "  <thead>\n",
              "    <tr style=\"text-align: right;\">\n",
              "      <th></th>\n",
              "      <th>DateTime</th>\n",
              "      <th>MÊS</th>\n",
              "      <th>ANO</th>\n",
              "      <th>PIB</th>\n",
              "      <th>PIB_CONS_POR</th>\n",
              "      <th>vol_PIB_BRASIL</th>\n",
              "      <th>vol_PIB_GOIAS</th>\n",
              "      <th>IBOVESPA_POR</th>\n",
              "      <th>DOLAR</th>\n",
              "      <th>SELIC</th>\n",
              "      <th>Desemprego</th>\n",
              "      <th>PJ total</th>\n",
              "      <th>PF não rotativo</th>\n",
              "      <th>IPCA</th>\n",
              "      <th>Salário</th>\n",
              "    </tr>\n",
              "  </thead>\n",
              "  <tbody>\n",
              "    <tr>\n",
              "      <th>0</th>\n",
              "      <td>1/2005</td>\n",
              "      <td>1</td>\n",
              "      <td>2005</td>\n",
              "      <td>NaN</td>\n",
              "      <td>NaN</td>\n",
              "      <td>2.170585e+09</td>\n",
              "      <td>53865113.0</td>\n",
              "      <td>-7.04</td>\n",
              "      <td>27074.0</td>\n",
              "      <td>18.25</td>\n",
              "      <td>NaN</td>\n",
              "      <td>NaN</td>\n",
              "      <td>NaN</td>\n",
              "      <td>NaN</td>\n",
              "      <td>NaN</td>\n",
              "    </tr>\n",
              "  </tbody>\n",
              "</table>\n",
              "</div>"
            ],
            "text/plain": [
              "  DateTime  MÊS   ANO  PIB  ... PJ total  PF não rotativo  IPCA  Salário\n",
              "0   1/2005    1  2005  NaN  ...      NaN              NaN   NaN      NaN\n",
              "\n",
              "[1 rows x 15 columns]"
            ]
          },
          "metadata": {
            "tags": []
          },
          "execution_count": 2
        }
      ]
    },
    {
      "cell_type": "code",
      "metadata": {
        "id": "qLZnslYw6RYu",
        "colab_type": "code",
        "outputId": "a70655f1-865f-4cc6-bbb1-9fb286508ad8",
        "colab": {
          "base_uri": "https://localhost:8080/",
          "height": 107
        }
      },
      "source": [
        "df.index = pd.to_datetime(df.DateTime, format = \"%m/%Y\")\n",
        "df.drop([\"MÊS\", \"ANO\", \"DateTime\"], inplace = True, axis = 1)\n",
        "\n",
        "df.PIB_CONS_POR = df.PIB_CONS_POR.str.replace(',','.').astype(float)\n",
        "df.interpolate(method='linear', inplace = True)\n",
        "df = df[96:-4]\n",
        "df.fillna(df[df.index < \"2014\"].mean(), inplace = True)\n",
        "\n",
        "df.head(1)"
      ],
      "execution_count": 3,
      "outputs": [
        {
          "output_type": "execute_result",
          "data": {
            "text/html": [
              "<div>\n",
              "<style scoped>\n",
              "    .dataframe tbody tr th:only-of-type {\n",
              "        vertical-align: middle;\n",
              "    }\n",
              "\n",
              "    .dataframe tbody tr th {\n",
              "        vertical-align: top;\n",
              "    }\n",
              "\n",
              "    .dataframe thead th {\n",
              "        text-align: right;\n",
              "    }\n",
              "</style>\n",
              "<table border=\"1\" class=\"dataframe\">\n",
              "  <thead>\n",
              "    <tr style=\"text-align: right;\">\n",
              "      <th></th>\n",
              "      <th>PIB</th>\n",
              "      <th>PIB_CONS_POR</th>\n",
              "      <th>vol_PIB_BRASIL</th>\n",
              "      <th>vol_PIB_GOIAS</th>\n",
              "      <th>IBOVESPA_POR</th>\n",
              "      <th>DOLAR</th>\n",
              "      <th>SELIC</th>\n",
              "      <th>Desemprego</th>\n",
              "      <th>PJ total</th>\n",
              "      <th>PF não rotativo</th>\n",
              "      <th>IPCA</th>\n",
              "      <th>Salário</th>\n",
              "    </tr>\n",
              "    <tr>\n",
              "      <th>DateTime</th>\n",
              "      <th></th>\n",
              "      <th></th>\n",
              "      <th></th>\n",
              "      <th></th>\n",
              "      <th></th>\n",
              "      <th></th>\n",
              "      <th></th>\n",
              "      <th></th>\n",
              "      <th></th>\n",
              "      <th></th>\n",
              "      <th></th>\n",
              "      <th></th>\n",
              "    </tr>\n",
              "  </thead>\n",
              "  <tbody>\n",
              "    <tr>\n",
              "      <th>2013-01-01</th>\n",
              "      <td>2.0</td>\n",
              "      <td>2.633333</td>\n",
              "      <td>5.331619e+09</td>\n",
              "      <td>151300175.0</td>\n",
              "      <td>-1.95</td>\n",
              "      <td>20374.0</td>\n",
              "      <td>7.14</td>\n",
              "      <td>7.2</td>\n",
              "      <td>4.299091</td>\n",
              "      <td>6.158182</td>\n",
              "      <td>6.15</td>\n",
              "      <td>678.0</td>\n",
              "    </tr>\n",
              "  </tbody>\n",
              "</table>\n",
              "</div>"
            ],
            "text/plain": [
              "            PIB  PIB_CONS_POR  vol_PIB_BRASIL  ...  PF não rotativo  IPCA  Salário\n",
              "DateTime                                       ...                                \n",
              "2013-01-01  2.0      2.633333    5.331619e+09  ...         6.158182  6.15    678.0\n",
              "\n",
              "[1 rows x 12 columns]"
            ]
          },
          "metadata": {
            "tags": []
          },
          "execution_count": 3
        }
      ]
    },
    {
      "cell_type": "markdown",
      "metadata": {
        "id": "QHRX5mBzGwBv",
        "colab_type": "text"
      },
      "source": [
        "#Observando informações do Dataset:"
      ]
    },
    {
      "cell_type": "code",
      "metadata": {
        "id": "phzFAd_4-pyH",
        "colab_type": "code",
        "outputId": "f920fdc7-af8d-4e84-a814-b9118d1c35db",
        "colab": {
          "base_uri": "https://localhost:8080/",
          "height": 34
        }
      },
      "source": [
        "df.shape"
      ],
      "execution_count": 4,
      "outputs": [
        {
          "output_type": "execute_result",
          "data": {
            "text/plain": [
              "(84, 12)"
            ]
          },
          "metadata": {
            "tags": []
          },
          "execution_count": 4
        }
      ]
    },
    {
      "cell_type": "code",
      "metadata": {
        "id": "iqemOeZH0WOt",
        "colab_type": "code",
        "outputId": "eaf722c0-0199-4158-ebdb-e22ebfe233c4",
        "colab": {
          "base_uri": "https://localhost:8080/",
          "height": 247
        }
      },
      "source": [
        "(df.isnull().sum()/df.shape[0]).sort_values(ascending = False)"
      ],
      "execution_count": 5,
      "outputs": [
        {
          "output_type": "execute_result",
          "data": {
            "text/plain": [
              "Salário            0.0\n",
              "IPCA               0.0\n",
              "PF não rotativo    0.0\n",
              "PJ total           0.0\n",
              "Desemprego         0.0\n",
              "SELIC              0.0\n",
              "DOLAR              0.0\n",
              "IBOVESPA_POR       0.0\n",
              "vol_PIB_GOIAS      0.0\n",
              "vol_PIB_BRASIL     0.0\n",
              "PIB_CONS_POR       0.0\n",
              "PIB                0.0\n",
              "dtype: float64"
            ]
          },
          "metadata": {
            "tags": []
          },
          "execution_count": 5
        }
      ]
    },
    {
      "cell_type": "code",
      "metadata": {
        "id": "mTDuLfgq1tBh",
        "colab_type": "code",
        "outputId": "6bcd03f5-ff36-4a15-e7d6-86f2e45455f9",
        "colab": {
          "base_uri": "https://localhost:8080/",
          "height": 247
        }
      },
      "source": [
        "df.dtypes"
      ],
      "execution_count": 6,
      "outputs": [
        {
          "output_type": "execute_result",
          "data": {
            "text/plain": [
              "PIB                float64\n",
              "PIB_CONS_POR       float64\n",
              "vol_PIB_BRASIL     float64\n",
              "vol_PIB_GOIAS      float64\n",
              "IBOVESPA_POR       float64\n",
              "DOLAR              float64\n",
              "SELIC              float64\n",
              "Desemprego         float64\n",
              "PJ total           float64\n",
              "PF não rotativo    float64\n",
              "IPCA               float64\n",
              "Salário            float64\n",
              "dtype: object"
            ]
          },
          "metadata": {
            "tags": []
          },
          "execution_count": 6
        }
      ]
    },
    {
      "cell_type": "code",
      "metadata": {
        "id": "8hIVt9Wd0ZN-",
        "colab_type": "code",
        "outputId": "f1aa122f-6888-4632-ba82-5c9c8bf4b58e",
        "colab": {
          "base_uri": "https://localhost:8080/",
          "height": 287
        }
      },
      "source": [
        "df.describe().round(2)"
      ],
      "execution_count": 7,
      "outputs": [
        {
          "output_type": "execute_result",
          "data": {
            "text/html": [
              "<div>\n",
              "<style scoped>\n",
              "    .dataframe tbody tr th:only-of-type {\n",
              "        vertical-align: middle;\n",
              "    }\n",
              "\n",
              "    .dataframe tbody tr th {\n",
              "        vertical-align: top;\n",
              "    }\n",
              "\n",
              "    .dataframe thead th {\n",
              "        text-align: right;\n",
              "    }\n",
              "</style>\n",
              "<table border=\"1\" class=\"dataframe\">\n",
              "  <thead>\n",
              "    <tr style=\"text-align: right;\">\n",
              "      <th></th>\n",
              "      <th>PIB</th>\n",
              "      <th>PIB_CONS_POR</th>\n",
              "      <th>vol_PIB_BRASIL</th>\n",
              "      <th>vol_PIB_GOIAS</th>\n",
              "      <th>IBOVESPA_POR</th>\n",
              "      <th>DOLAR</th>\n",
              "      <th>SELIC</th>\n",
              "      <th>Desemprego</th>\n",
              "      <th>PJ total</th>\n",
              "      <th>PF não rotativo</th>\n",
              "      <th>IPCA</th>\n",
              "      <th>Salário</th>\n",
              "    </tr>\n",
              "  </thead>\n",
              "  <tbody>\n",
              "    <tr>\n",
              "      <th>count</th>\n",
              "      <td>84.00</td>\n",
              "      <td>84.00</td>\n",
              "      <td>8.400000e+01</td>\n",
              "      <td>8.400000e+01</td>\n",
              "      <td>84.00</td>\n",
              "      <td>84.00</td>\n",
              "      <td>84.00</td>\n",
              "      <td>84.00</td>\n",
              "      <td>84.00</td>\n",
              "      <td>84.00</td>\n",
              "      <td>84.00</td>\n",
              "      <td>84.00</td>\n",
              "    </tr>\n",
              "    <tr>\n",
              "      <th>mean</th>\n",
              "      <td>0.12</td>\n",
              "      <td>-4.05</td>\n",
              "      <td>6.160806e+09</td>\n",
              "      <td>1.782005e+08</td>\n",
              "      <td>2.14</td>\n",
              "      <td>29871.00</td>\n",
              "      <td>9.93</td>\n",
              "      <td>10.07</td>\n",
              "      <td>1.87</td>\n",
              "      <td>4.74</td>\n",
              "      <td>5.88</td>\n",
              "      <td>851.29</td>\n",
              "    </tr>\n",
              "    <tr>\n",
              "      <th>std</th>\n",
              "      <td>2.35</td>\n",
              "      <td>5.40</td>\n",
              "      <td>4.511709e+08</td>\n",
              "      <td>1.469660e+07</td>\n",
              "      <td>6.66</td>\n",
              "      <td>9870.45</td>\n",
              "      <td>3.10</td>\n",
              "      <td>2.44</td>\n",
              "      <td>7.75</td>\n",
              "      <td>11.42</td>\n",
              "      <td>2.36</td>\n",
              "      <td>114.38</td>\n",
              "    </tr>\n",
              "    <tr>\n",
              "      <th>min</th>\n",
              "      <td>-4.60</td>\n",
              "      <td>-11.40</td>\n",
              "      <td>5.331619e+09</td>\n",
              "      <td>1.513002e+08</td>\n",
              "      <td>-11.70</td>\n",
              "      <td>1.96</td>\n",
              "      <td>5.00</td>\n",
              "      <td>6.20</td>\n",
              "      <td>-11.56</td>\n",
              "      <td>-17.11</td>\n",
              "      <td>2.46</td>\n",
              "      <td>678.00</td>\n",
              "    </tr>\n",
              "    <tr>\n",
              "      <th>25%</th>\n",
              "      <td>-1.58</td>\n",
              "      <td>-8.76</td>\n",
              "      <td>5.778953e+09</td>\n",
              "      <td>1.650153e+08</td>\n",
              "      <td>-2.82</td>\n",
              "      <td>23587.00</td>\n",
              "      <td>6.69</td>\n",
              "      <td>7.40</td>\n",
              "      <td>-2.78</td>\n",
              "      <td>-2.14</td>\n",
              "      <td>3.86</td>\n",
              "      <td>724.00</td>\n",
              "    </tr>\n",
              "    <tr>\n",
              "      <th>50%</th>\n",
              "      <td>1.07</td>\n",
              "      <td>-4.82</td>\n",
              "      <td>6.269328e+09</td>\n",
              "      <td>1.817596e+08</td>\n",
              "      <td>0.99</td>\n",
              "      <td>31969.50</td>\n",
              "      <td>10.07</td>\n",
              "      <td>11.20</td>\n",
              "      <td>1.37</td>\n",
              "      <td>5.35</td>\n",
              "      <td>6.00</td>\n",
              "      <td>880.00</td>\n",
              "    </tr>\n",
              "    <tr>\n",
              "      <th>75%</th>\n",
              "      <td>1.60</td>\n",
              "      <td>0.95</td>\n",
              "      <td>6.583319e+09</td>\n",
              "      <td>1.918987e+08</td>\n",
              "      <td>8.00</td>\n",
              "      <td>37445.00</td>\n",
              "      <td>13.06</td>\n",
              "      <td>12.12</td>\n",
              "      <td>7.18</td>\n",
              "      <td>15.75</td>\n",
              "      <td>7.28</td>\n",
              "      <td>954.00</td>\n",
              "    </tr>\n",
              "    <tr>\n",
              "      <th>max</th>\n",
              "      <td>3.20</td>\n",
              "      <td>6.20</td>\n",
              "      <td>6.583319e+09</td>\n",
              "      <td>1.918987e+08</td>\n",
              "      <td>16.97</td>\n",
              "      <td>42234.00</td>\n",
              "      <td>14.25</td>\n",
              "      <td>13.70</td>\n",
              "      <td>15.53</td>\n",
              "      <td>22.47</td>\n",
              "      <td>10.71</td>\n",
              "      <td>998.00</td>\n",
              "    </tr>\n",
              "  </tbody>\n",
              "</table>\n",
              "</div>"
            ],
            "text/plain": [
              "         PIB  PIB_CONS_POR  vol_PIB_BRASIL  ...  PF não rotativo   IPCA  Salário\n",
              "count  84.00         84.00    8.400000e+01  ...            84.00  84.00    84.00\n",
              "mean    0.12         -4.05    6.160806e+09  ...             4.74   5.88   851.29\n",
              "std     2.35          5.40    4.511709e+08  ...            11.42   2.36   114.38\n",
              "min    -4.60        -11.40    5.331619e+09  ...           -17.11   2.46   678.00\n",
              "25%    -1.58         -8.76    5.778953e+09  ...            -2.14   3.86   724.00\n",
              "50%     1.07         -4.82    6.269328e+09  ...             5.35   6.00   880.00\n",
              "75%     1.60          0.95    6.583319e+09  ...            15.75   7.28   954.00\n",
              "max     3.20          6.20    6.583319e+09  ...            22.47  10.71   998.00\n",
              "\n",
              "[8 rows x 12 columns]"
            ]
          },
          "metadata": {
            "tags": []
          },
          "execution_count": 7
        }
      ]
    },
    {
      "cell_type": "markdown",
      "metadata": {
        "id": "9jWd0b2dGz09",
        "colab_type": "text"
      },
      "source": [
        "#Matriz de Correlação:"
      ]
    },
    {
      "cell_type": "code",
      "metadata": {
        "id": "EuYpGHkp0piY",
        "colab_type": "code",
        "outputId": "f50ca891-bff5-465c-d454-2af910454738",
        "colab": {
          "base_uri": "https://localhost:8080/",
          "height": 908
        }
      },
      "source": [
        "fig, ax = plt.subplots(figsize = (16,16))\n",
        "\n",
        "sns.heatmap(df.corr(), cmap='RdBu', fmt='.2f', square=True, linecolor='white', annot=True);\n"
      ],
      "execution_count": 8,
      "outputs": [
        {
          "output_type": "display_data",
          "data": {
            "image/png": "[encoded data removed]",
            "text/plain": [
              "<Figure size 1152x1152 with 2 Axes>"
            ]
          },
          "metadata": {
            "tags": [],
            "needs_background": "light"
          }
        }
      ]
    },
    {
      "cell_type": "markdown",
      "metadata": {
        "id": "T4cgbLS3G2P4",
        "colab_type": "text"
      },
      "source": [
        "#Observando o Comportamento entre duas variáveis:"
      ]
    },
    {
      "cell_type": "markdown",
      "metadata": {
        "id": "41AW6XNUHBRq",
        "colab_type": "text"
      },
      "source": [
        "##SELIC X Salário:"
      ]
    },
    {
      "cell_type": "code",
      "metadata": {
        "id": "rfIo_gIT1c7o",
        "colab_type": "code",
        "outputId": "67ed9da2-18e7-4a71-b3be-7d7d2da941d5",
        "colab": {
          "base_uri": "https://localhost:8080/",
          "height": 393
        }
      },
      "source": [
        "fig, ax1 = plt.subplots(figsize = (12,6))\n",
        "color = 'tab:red'\n",
        "ax1.set_xlabel('Anos', fontsize = 16)\n",
        "ax1.set_ylabel('Salário', fontsize = 14, color=color)\n",
        "ax1.plot(df.index, df.Salário, label = \"Salário\", color = color)\n",
        "\n",
        "ax2 = ax1.twinx()\n",
        "color = 'tab:blue'\n",
        "ax2.set_ylabel('SELIC', fontsize = 14, color=color)\n",
        "ax2.plot(df.index, df.SELIC, label = \"SELIC\");"
      ],
      "execution_count": 9,
      "outputs": [
        {
          "output_type": "display_data",
          "data": {
            "image/png": "[encoded data removed]",
            "text/plain": [
              "<Figure size 864x432 with 2 Axes>"
            ]
          },
          "metadata": {
            "tags": [],
            "needs_background": "light"
          }
        }
      ]
    },
    {
      "cell_type": "markdown",
      "metadata": {
        "id": "bB-6crSAHEJU",
        "colab_type": "text"
      },
      "source": [
        "##SELIC X Concensão de Crédito"
      ]
    },
    {
      "cell_type": "code",
      "metadata": {
        "id": "IeUY0-Me8l08",
        "colab_type": "code",
        "outputId": "3a52e2c4-96c1-4c44-ba57-9efdd78f7752",
        "colab": {
          "base_uri": "https://localhost:8080/",
          "height": 393
        }
      },
      "source": [
        "fig, ax1 = plt.subplots(figsize = (12,6))\n",
        "color = 'tab:red'\n",
        "ax1.set_xlabel('Anos', fontsize = 16)\n",
        "ax1.set_ylabel('Concensão de Crédito', fontsize = 14, color=color)\n",
        "ax1.plot(df.index, df[\"PF não rotativo\"], label = \"Concensão de Crédito\", color = color)\n",
        "\n",
        "ax2 = ax1.twinx()\n",
        "color = 'tab:blue'\n",
        "ax2.set_ylabel('SELIC', fontsize = 14, color=color)\n",
        "ax2.plot(df.index, df.SELIC, label = \"SELIC\");"
      ],
      "execution_count": 10,
      "outputs": [
        {
          "output_type": "display_data",
          "data": {
            "image/png": "[encoded data removed]",
            "text/plain": [
              "<Figure size 864x432 with 2 Axes>"
            ]
          },
          "metadata": {
            "tags": [],
            "needs_background": "light"
          }
        }
      ]
    },
    {
      "cell_type": "markdown",
      "metadata": {
        "id": "rQWGYQuCHNjA",
        "colab_type": "text"
      },
      "source": [
        "##SELIC X IPCA:"
      ]
    },
    {
      "cell_type": "code",
      "metadata": {
        "id": "vsUZKEwc-c5z",
        "colab_type": "code",
        "outputId": "377f4a1c-578d-492a-dbf2-abc607fb0d27",
        "colab": {
          "base_uri": "https://localhost:8080/",
          "height": 396
        }
      },
      "source": [
        "fig, ax1 = plt.subplots(figsize = (12,6))\n",
        "color = 'tab:red'\n",
        "ax1.set_xlabel('Anos', fontsize = 20)\n",
        "ax1.set_ylabel('IPCA', fontsize = 20, color=color)\n",
        "ax1.plot(df.index, df.IPCA, label = \"IPCA\", color = color)\n",
        "\n",
        "ax2 = ax1.twinx()\n",
        "color = 'tab:blue'\n",
        "ax2.set_ylabel('SELIC', fontsize = 20, color=color)\n",
        "ax2.plot(df.index, df.SELIC, label = \"SELIC\");"
      ],
      "execution_count": 11,
      "outputs": [
        {
          "output_type": "display_data",
          "data": {
            "image/png": "[encoded data removed]",
            "text/plain": [
              "<Figure size 864x432 with 2 Axes>"
            ]
          },
          "metadata": {
            "tags": [],
            "needs_background": "light"
          }
        }
      ]
    },
    {
      "cell_type": "markdown",
      "metadata": {
        "id": "0Kcf1wWrNWDg",
        "colab_type": "text"
      },
      "source": [
        "##PIB GOIAS X PIB BRASIL:"
      ]
    },
    {
      "cell_type": "code",
      "metadata": {
        "id": "VI1cdinANb8L",
        "colab_type": "code",
        "outputId": "91325bc4-a203-424d-fd30-56534bf46370",
        "colab": {
          "base_uri": "https://localhost:8080/",
          "height": 407
        }
      },
      "source": [
        "fig, ax1 = plt.subplots(figsize = (12,6))\n",
        "color = 'tab:red'\n",
        "ax1.set_xlabel('Anos', fontsize = 20)\n",
        "ax1.set_ylabel('Volume PIB GOIÁS', fontsize = 20, color=color)\n",
        "ax1.plot(df.index, df.vol_PIB_GOIAS, color = color)\n",
        "\n",
        "ax2 = ax1.twinx()\n",
        "color = 'tab:blue'\n",
        "ax2.set_ylabel('Volume PIB BRASIL', fontsize = 20, color=color)\n",
        "ax2.plot(df.index, df.vol_PIB_BRASIL);"
      ],
      "execution_count": 12,
      "outputs": [
        {
          "output_type": "display_data",
          "data": {
            "image/png": "[encoded data removed]",
            "text/plain": [
              "<Figure size 864x432 with 2 Axes>"
            ]
          },
          "metadata": {
            "tags": [],
            "needs_background": "light"
          }
        }
      ]
    },
    {
      "cell_type": "markdown",
      "metadata": {
        "id": "YqaVBvF2OnRU",
        "colab_type": "text"
      },
      "source": [
        "##PIB CONS X PIB BRASIL:"
      ]
    },
    {
      "cell_type": "code",
      "metadata": {
        "id": "bcwNv4FhOqom",
        "colab_type": "code",
        "outputId": "5468548b-912c-4253-86cd-0670ef5ea793",
        "colab": {
          "base_uri": "https://localhost:8080/",
          "height": 396
        }
      },
      "source": [
        "fig, ax1 = plt.subplots(figsize = (12,6))\n",
        "color = 'tab:red'\n",
        "plt.xlabel('Anos', fontsize = 20)\n",
        "plt.ylabel('Variação do PIB', fontsize = 20)\n",
        "plt.plot(df.PIB_CONS_POR.dropna(), color = color, label = \"PIB Construção\")\n",
        "\n",
        "color = 'tab:blue'\n",
        "plt.plot(df.PIB.dropna(), color = color, label = \"PIB\")\n",
        "plt.legend();"
      ],
      "execution_count": 13,
      "outputs": [
        {
          "output_type": "display_data",
          "data": {
            "image/png": "[encoded data removed]",
            "text/plain": [
              "<Figure size 864x432 with 1 Axes>"
            ]
          },
          "metadata": {
            "tags": [],
            "needs_background": "light"
          }
        }
      ]
    },
    {
      "cell_type": "markdown",
      "metadata": {
        "id": "prk2hKu8MXIs",
        "colab_type": "text"
      },
      "source": [
        "#Parte 2: Metragens:"
      ]
    },
    {
      "cell_type": "code",
      "metadata": {
        "id": "cJtLZ8CyMY-L",
        "colab_type": "code",
        "outputId": "a14ec0b5-79db-443f-ca32-ffdf4c48f3a0",
        "colab": {
          "base_uri": "https://localhost:8080/",
          "height": 107
        }
      },
      "source": [
        "metragem_path = 'https://raw.githubusercontent.com/GabrielTrentino/TCC/master/Metragem_por_Tipo.csv'\n",
        "df_metragem = pd.read_csv(metragem_path)\n",
        "df_metragem.index = pd.to_datetime(df_metragem[\"Unnamed: 0\"], format = \"%m/%Y\")\n",
        "df_metragem.drop(\"Unnamed: 0\", axis = 1, inplace=True)\n",
        "df_metragem.head(1)"
      ],
      "execution_count": 14,
      "outputs": [
        {
          "output_type": "execute_result",
          "data": {
            "text/html": [
              "<div>\n",
              "<style scoped>\n",
              "    .dataframe tbody tr th:only-of-type {\n",
              "        vertical-align: middle;\n",
              "    }\n",
              "\n",
              "    .dataframe tbody tr th {\n",
              "        vertical-align: top;\n",
              "    }\n",
              "\n",
              "    .dataframe thead th {\n",
              "        text-align: right;\n",
              "    }\n",
              "</style>\n",
              "<table border=\"1\" class=\"dataframe\">\n",
              "  <thead>\n",
              "    <tr style=\"text-align: right;\">\n",
              "      <th></th>\n",
              "      <th>Tipo</th>\n",
              "      <th>Alto</th>\n",
              "      <th>Normal</th>\n",
              "      <th>Baixo</th>\n",
              "      <th>Mínimo</th>\n",
              "    </tr>\n",
              "    <tr>\n",
              "      <th>Unnamed: 0</th>\n",
              "      <th></th>\n",
              "      <th></th>\n",
              "      <th></th>\n",
              "      <th></th>\n",
              "      <th></th>\n",
              "    </tr>\n",
              "  </thead>\n",
              "  <tbody>\n",
              "    <tr>\n",
              "      <th>2005-01-01</th>\n",
              "      <td>Tipo1</td>\n",
              "      <td>NaN</td>\n",
              "      <td>491.59</td>\n",
              "      <td>357.25</td>\n",
              "      <td>296.73</td>\n",
              "    </tr>\n",
              "  </tbody>\n",
              "</table>\n",
              "</div>"
            ],
            "text/plain": [
              "             Tipo  Alto  Normal   Baixo  Mínimo\n",
              "Unnamed: 0                                     \n",
              "2005-01-01  Tipo1   NaN  491.59  357.25  296.73"
            ]
          },
          "metadata": {
            "tags": []
          },
          "execution_count": 14
        }
      ]
    },
    {
      "cell_type": "code",
      "metadata": {
        "id": "YZlMSg-PVrXW",
        "colab_type": "code",
        "outputId": "d27db67a-050d-4b7b-bf63-19516c4f7b00",
        "colab": {
          "base_uri": "https://localhost:8080/",
          "height": 347
        }
      },
      "source": [
        "df_new = pd.DataFrame()\n",
        "df_new['Tipo1Norm'] = df_metragem.query(\"Tipo == 'Tipo1'\").Normal\n",
        "df_new['Tipo1Baix'] = df_metragem.query(\"Tipo == 'Tipo1'\").Baixo\n",
        "df_new['Tipo1Mini'] = df_metragem.query(\"Tipo == 'Tipo1'\").Mínimo\n",
        "df_new['Tipo2Norm'] = df_metragem.query(\"Tipo == 'Tipo2'\").Normal\n",
        "df_new['Tipo2Baix'] = df_metragem.query(\"Tipo == 'Tipo2'\").Baixo\n",
        "df_new['Tipo2Mini'] = df_metragem.query(\"Tipo == 'Tipo2'\").Mínimo\n",
        "df_new['Tipo3Norm'] = df_metragem.query(\"Tipo == 'Tipo3'\").Normal\n",
        "df_new['Tipo3Baix'] = df_metragem.query(\"Tipo == 'Tipo3'\").Baixo\n",
        "df_new['Tipo3Mini'] = df_metragem.query(\"Tipo == 'Tipo3'\").Mínimo\n",
        "df_new['Tipo4Norm'] = df_metragem.query(\"Tipo == 'Tipo4'\").Normal\n",
        "df_new['Tipo4Baix'] = df_metragem.query(\"Tipo == 'Tipo4'\").Baixo\n",
        "df_new['Tipo4Alto'] = df_metragem.query(\"Tipo == 'Tipo4'\").Alto\n",
        "df_new['Tipo5Norm'] = df_metragem.query(\"Tipo == 'Tipo5'\").Normal\n",
        "df_new['Tipo5Baix'] = df_metragem.query(\"Tipo == 'Tipo5'\").Baixo\n",
        "df_new['Tipo5Mini'] = df_metragem.query(\"Tipo == 'Tipo5'\").Mínimo\n",
        "df_new['Tipo6Norm'] = df_metragem.query(\"Tipo == 'Tipo6'\").Normal\n",
        "df_new['Tipo6Baix'] = df_metragem.query(\"Tipo == 'Tipo6'\").Baixo\n",
        "df_new['Tipo6Mini'] = df_metragem.query(\"Tipo == 'Tipo6'\").Mínimo\n",
        "df_new['Tipo7Norm'] = df_metragem.query(\"Tipo == 'Tipo7'\").Normal\n",
        "df_new['Tipo7Baix'] = df_metragem.query(\"Tipo == 'Tipo7'\").Baixo\n",
        "df_new['Tipo7Mini'] = df_metragem.query(\"Tipo == 'Tipo7'\").Mínimo\n",
        "df_new = df_new[96:]\n",
        "df_new.head()"
      ],
      "execution_count": 15,
      "outputs": [
        {
          "output_type": "execute_result",
          "data": {
            "text/html": [
              "<div>\n",
              "<style scoped>\n",
              "    .dataframe tbody tr th:only-of-type {\n",
              "        vertical-align: middle;\n",
              "    }\n",
              "\n",
              "    .dataframe tbody tr th {\n",
              "        vertical-align: top;\n",
              "    }\n",
              "\n",
              "    .dataframe thead th {\n",
              "        text-align: right;\n",
              "    }\n",
              "</style>\n",
              "<table border=\"1\" class=\"dataframe\">\n",
              "  <thead>\n",
              "    <tr style=\"text-align: right;\">\n",
              "      <th></th>\n",
              "      <th>Tipo1Norm</th>\n",
              "      <th>Tipo1Baix</th>\n",
              "      <th>Tipo1Mini</th>\n",
              "      <th>Tipo2Norm</th>\n",
              "      <th>Tipo2Baix</th>\n",
              "      <th>Tipo2Mini</th>\n",
              "      <th>Tipo3Norm</th>\n",
              "      <th>Tipo3Baix</th>\n",
              "      <th>Tipo3Mini</th>\n",
              "      <th>Tipo4Norm</th>\n",
              "      <th>Tipo4Baix</th>\n",
              "      <th>Tipo4Alto</th>\n",
              "      <th>Tipo5Norm</th>\n",
              "      <th>Tipo5Baix</th>\n",
              "      <th>Tipo5Mini</th>\n",
              "      <th>Tipo6Norm</th>\n",
              "      <th>Tipo6Baix</th>\n",
              "      <th>Tipo6Mini</th>\n",
              "      <th>Tipo7Norm</th>\n",
              "      <th>Tipo7Baix</th>\n",
              "      <th>Tipo7Mini</th>\n",
              "    </tr>\n",
              "    <tr>\n",
              "      <th>Unnamed: 0</th>\n",
              "      <th></th>\n",
              "      <th></th>\n",
              "      <th></th>\n",
              "      <th></th>\n",
              "      <th></th>\n",
              "      <th></th>\n",
              "      <th></th>\n",
              "      <th></th>\n",
              "      <th></th>\n",
              "      <th></th>\n",
              "      <th></th>\n",
              "      <th></th>\n",
              "      <th></th>\n",
              "      <th></th>\n",
              "      <th></th>\n",
              "      <th></th>\n",
              "      <th></th>\n",
              "      <th></th>\n",
              "      <th></th>\n",
              "      <th></th>\n",
              "      <th></th>\n",
              "    </tr>\n",
              "  </thead>\n",
              "  <tbody>\n",
              "    <tr>\n",
              "      <th>2013-01-01</th>\n",
              "      <td>870.37</td>\n",
              "      <td>602.98</td>\n",
              "      <td>521.04</td>\n",
              "      <td>978.80</td>\n",
              "      <td>677.45</td>\n",
              "      <td>585.42</td>\n",
              "      <td>974.20</td>\n",
              "      <td>691.48</td>\n",
              "      <td>606.03</td>\n",
              "      <td>829.03</td>\n",
              "      <td>571.12</td>\n",
              "      <td>965.66</td>\n",
              "      <td>1057.24</td>\n",
              "      <td>732.23</td>\n",
              "      <td>637.00</td>\n",
              "      <td>898.10</td>\n",
              "      <td>679.06</td>\n",
              "      <td>604.82</td>\n",
              "      <td>777.92</td>\n",
              "      <td>591.22</td>\n",
              "      <td>523.65</td>\n",
              "    </tr>\n",
              "    <tr>\n",
              "      <th>2013-02-01</th>\n",
              "      <td>870.62</td>\n",
              "      <td>604.88</td>\n",
              "      <td>522.83</td>\n",
              "      <td>979.16</td>\n",
              "      <td>679.57</td>\n",
              "      <td>587.40</td>\n",
              "      <td>974.54</td>\n",
              "      <td>693.58</td>\n",
              "      <td>607.96</td>\n",
              "      <td>829.04</td>\n",
              "      <td>572.85</td>\n",
              "      <td>966.19</td>\n",
              "      <td>1057.70</td>\n",
              "      <td>734.44</td>\n",
              "      <td>639.12</td>\n",
              "      <td>898.29</td>\n",
              "      <td>680.33</td>\n",
              "      <td>605.94</td>\n",
              "      <td>778.22</td>\n",
              "      <td>592.35</td>\n",
              "      <td>524.66</td>\n",
              "    </tr>\n",
              "    <tr>\n",
              "      <th>2013-03-01</th>\n",
              "      <td>870.31</td>\n",
              "      <td>607.91</td>\n",
              "      <td>525.92</td>\n",
              "      <td>978.74</td>\n",
              "      <td>682.83</td>\n",
              "      <td>590.76</td>\n",
              "      <td>973.66</td>\n",
              "      <td>696.25</td>\n",
              "      <td>610.94</td>\n",
              "      <td>828.13</td>\n",
              "      <td>575.29</td>\n",
              "      <td>970.03</td>\n",
              "      <td>1056.91</td>\n",
              "      <td>737.74</td>\n",
              "      <td>642.73</td>\n",
              "      <td>898.31</td>\n",
              "      <td>682.23</td>\n",
              "      <td>607.91</td>\n",
              "      <td>777.37</td>\n",
              "      <td>593.68</td>\n",
              "      <td>526.26</td>\n",
              "    </tr>\n",
              "    <tr>\n",
              "      <th>2013-04-01</th>\n",
              "      <td>874.64</td>\n",
              "      <td>610.41</td>\n",
              "      <td>532.68</td>\n",
              "      <td>983.89</td>\n",
              "      <td>686.07</td>\n",
              "      <td>598.62</td>\n",
              "      <td>978.81</td>\n",
              "      <td>700.02</td>\n",
              "      <td>619.04</td>\n",
              "      <td>832.38</td>\n",
              "      <td>577.69</td>\n",
              "      <td>976.14</td>\n",
              "      <td>1062.74</td>\n",
              "      <td>741.86</td>\n",
              "      <td>651.17</td>\n",
              "      <td>903.33</td>\n",
              "      <td>687.61</td>\n",
              "      <td>615.31</td>\n",
              "      <td>782.43</td>\n",
              "      <td>598.32</td>\n",
              "      <td>533.55</td>\n",
              "    </tr>\n",
              "    <tr>\n",
              "      <th>2013-05-01</th>\n",
              "      <td>824.72</td>\n",
              "      <td>575.44</td>\n",
              "      <td>499.21</td>\n",
              "      <td>928.02</td>\n",
              "      <td>646.83</td>\n",
              "      <td>561.19</td>\n",
              "      <td>922.75</td>\n",
              "      <td>659.55</td>\n",
              "      <td>580.28</td>\n",
              "      <td>785.26</td>\n",
              "      <td>544.56</td>\n",
              "      <td>925.62</td>\n",
              "      <td>1002.98</td>\n",
              "      <td>699.59</td>\n",
              "      <td>610.51</td>\n",
              "      <td>849.22</td>\n",
              "      <td>646.01</td>\n",
              "      <td>575.18</td>\n",
              "      <td>739.02</td>\n",
              "      <td>564.45</td>\n",
              "      <td>500.71</td>\n",
              "    </tr>\n",
              "  </tbody>\n",
              "</table>\n",
              "</div>"
            ],
            "text/plain": [
              "            Tipo1Norm  Tipo1Baix  Tipo1Mini  ...  Tipo7Norm  Tipo7Baix  Tipo7Mini\n",
              "Unnamed: 0                                   ...                                 \n",
              "2013-01-01     870.37     602.98     521.04  ...     777.92     591.22     523.65\n",
              "2013-02-01     870.62     604.88     522.83  ...     778.22     592.35     524.66\n",
              "2013-03-01     870.31     607.91     525.92  ...     777.37     593.68     526.26\n",
              "2013-04-01     874.64     610.41     532.68  ...     782.43     598.32     533.55\n",
              "2013-05-01     824.72     575.44     499.21  ...     739.02     564.45     500.71\n",
              "\n",
              "[5 rows x 21 columns]"
            ]
          },
          "metadata": {
            "tags": []
          },
          "execution_count": 15
        }
      ]
    },
    {
      "cell_type": "code",
      "metadata": {
        "id": "nItKNK6LRyfG",
        "colab_type": "code",
        "outputId": "2f1f3a0e-7264-4a3e-9242-b8c157d361c1",
        "colab": {
          "base_uri": "https://localhost:8080/",
          "height": 34
        }
      },
      "source": [
        "df_new.shape"
      ],
      "execution_count": 16,
      "outputs": [
        {
          "output_type": "execute_result",
          "data": {
            "text/plain": [
              "(85, 21)"
            ]
          },
          "metadata": {
            "tags": []
          },
          "execution_count": 16
        }
      ]
    },
    {
      "cell_type": "code",
      "metadata": {
        "id": "mdAV3ekagYeY",
        "colab_type": "code",
        "colab": {}
      },
      "source": [
        ""
      ],
      "execution_count": 0,
      "outputs": []
    },
    {
      "cell_type": "markdown",
      "metadata": {
        "id": "5yFcK_Lg736t",
        "colab_type": "text"
      },
      "source": [
        "#Primeira Tentativa:\n",
        "Utilizando todos os dados disponíveis:"
      ]
    },
    {
      "cell_type": "code",
      "metadata": {
        "id": "7BfIegQpMx6r",
        "colab_type": "code",
        "outputId": "afdabed2-5929-46ec-afa9-6dab0e5a3faf",
        "colab": {
          "base_uri": "https://localhost:8080/",
          "height": 52
        }
      },
      "source": [
        "X_train = df.loc[\"2014\"]\n",
        "X_test = df.loc[\"2015\"]\n",
        "y_train = df_new.Tipo1Norm[\"2014\"]\n",
        "y_test = df_new.Tipo1Norm[\"2015\"]\n",
        "\n",
        "modelo = LinearRegression()\n",
        "modelo.fit(X_train, y_train)\n",
        "y_pred = modelo.predict(X_test)\n",
        "print(\"Treino R² = {:.8f}\\nTeste R² = {:.8f}\".format(modelo.score(X_train,y_train), metrics.r2_score(y_test, y_pred)))"
      ],
      "execution_count": 17,
      "outputs": [
        {
          "output_type": "stream",
          "text": [
            "Treino R² = 0.98379501\n",
            "Teste R² = -3.43653993\n"
          ],
          "name": "stdout"
        }
      ]
    },
    {
      "cell_type": "markdown",
      "metadata": {
        "id": "rPd5_iDrVw7G",
        "colab_type": "text"
      },
      "source": [
        "#Variáveis de Análise para validação:"
      ]
    },
    {
      "cell_type": "code",
      "metadata": {
        "id": "HeYGxfMpVzs-",
        "colab_type": "code",
        "colab": {}
      },
      "source": [
        "def validacao_TCC(X_train, y_train, y_test, y_pred):\n",
        "  R_treino = modelo.score(X_train,y_train)\n",
        "  R_teste = metrics.r2_score(y_test, y_pred)\n",
        "  RMSE = metrics.mean_squared_error(y_test, y_pred)\n",
        "  valid_TCC = [R_treino, R_teste, RMSE]\n",
        "  return valid_TCC"
      ],
      "execution_count": 0,
      "outputs": []
    },
    {
      "cell_type": "markdown",
      "metadata": {
        "id": "zPrULQIAszFK",
        "colab_type": "text"
      },
      "source": [
        "#Técnica de Janela Móvel ou Deslizante:\n",
        "\n",
        "Os são analisados de ano à ano ou em grupo de anos. Por exemplo: usamos os dados de 2013 para treinar, e 2014 para validar. Em seguida, usamos os dados de 2014 para treinar e 2015 para validar.\n",
        "\n",
        "Podemos ainda utilizar dois anos para treinar (2013 e 2014 ou 2015 e 2016) e um ano para validar (2015 ou 2017). Podendo essas quantidades de anos ser alteradas."
      ]
    },
    {
      "cell_type": "code",
      "metadata": {
        "id": "L7yDdeMwpkBY",
        "colab_type": "code",
        "colab": {}
      },
      "source": [
        "def JanelaMovel_RegressaoLinear(df, df_new, qnt_data_1grupo=1, qnt_data_2grupo=1):\n",
        "\n",
        "  #Cria uma Lista para poder criar um DataFrame no final:\n",
        "  resultados = []\n",
        "\n",
        "  #Quais serão os anos analisados:\n",
        "  lista_anos = [\"2013\",\"2014\", \"2015\", \"2016\", \"2017\", \"2018\", \"2019\"]\n",
        "\n",
        "  for nome, dados in df_new.iteritems():\n",
        "    for pos, ano in enumerate(lista_anos):\n",
        "\n",
        "      #Variáveis Anos:\n",
        "      data_separador = str(int(ano)+qnt_data_1grupo)\n",
        "      data_fin = str(int(ano)+qnt_data_2grupo+1)\n",
        "      \n",
        "      #Quebra o laço de Repetição:\n",
        "      if str(int(data_fin)-2) == lista_anos[-1]:\n",
        "        break\n",
        "\n",
        "      #Convertendo a Series \"dados\" para um DataFrame:\n",
        "      dados = pd.DataFrame(dados)\n",
        "\n",
        "      #Criando variáveis de treino e teste de acordo com tipo de imóvel e ano:\n",
        "      X_train = df[df.index >= ano][df[df.index >= ano].index < data_separador]\n",
        "      X_test = df[df.index >= data_separador][df[df.index >= data_separador].index < data_fin]\n",
        "      y_train = dados[dados.index >= ano][dados[dados.index >= ano].index < data_separador]\n",
        "      y_test = dados[dados.index >= data_separador][dados[dados.index >= data_separador].index < data_fin]\n",
        "\n",
        "      #Criando o modelo, treinando e chutando os valores:\n",
        "      modelo = LinearRegression()\n",
        "      modelo.fit(X_train, y_train)\n",
        "      y_pred = modelo.predict(X_test)\n",
        "\n",
        "      #Variáveis para criar o DataFrame:\n",
        "      infos_de_validar = []\n",
        "      infos_de_validar = [nome, ano]\n",
        "      for i in validacao_TCC(X_train, y_train, y_test, y_pred):\n",
        "        infos_de_validar.append(i)\n",
        "        \n",
        "      resultados.append(infos_de_validar)\n",
        "\n",
        "  resultados = pd.DataFrame(resultados, columns=[\"Var_y\", \"Ano\", \"R_treino\", \"R_teste\", \"RMSE\"])\n",
        "  return resultados"
      ],
      "execution_count": 0,
      "outputs": []
    },
    {
      "cell_type": "code",
      "metadata": {
        "id": "IUZp_IO4UuJ0",
        "colab_type": "code",
        "outputId": "398e8e05-1d0f-41d7-a51b-143ba698a561",
        "colab": {
          "base_uri": "https://localhost:8080/",
          "height": 406
        }
      },
      "source": [
        "JanelaMovel_RegressaoLinear(df, df_new)"
      ],
      "execution_count": 20,
      "outputs": [
        {
          "output_type": "execute_result",
          "data": {
            "text/html": [
              "<div>\n",
              "<style scoped>\n",
              "    .dataframe tbody tr th:only-of-type {\n",
              "        vertical-align: middle;\n",
              "    }\n",
              "\n",
              "    .dataframe tbody tr th {\n",
              "        vertical-align: top;\n",
              "    }\n",
              "\n",
              "    .dataframe thead th {\n",
              "        text-align: right;\n",
              "    }\n",
              "</style>\n",
              "<table border=\"1\" class=\"dataframe\">\n",
              "  <thead>\n",
              "    <tr style=\"text-align: right;\">\n",
              "      <th></th>\n",
              "      <th>Var_y</th>\n",
              "      <th>Ano</th>\n",
              "      <th>R_treino</th>\n",
              "      <th>R_teste</th>\n",
              "      <th>RMSE</th>\n",
              "    </tr>\n",
              "  </thead>\n",
              "  <tbody>\n",
              "    <tr>\n",
              "      <th>0</th>\n",
              "      <td>Tipo1Norm</td>\n",
              "      <td>2013</td>\n",
              "      <td>-15.894325</td>\n",
              "      <td>-1285.948601</td>\n",
              "      <td>612679.110358</td>\n",
              "    </tr>\n",
              "    <tr>\n",
              "      <th>1</th>\n",
              "      <td>Tipo1Norm</td>\n",
              "      <td>2014</td>\n",
              "      <td>0.983795</td>\n",
              "      <td>-3.436540</td>\n",
              "      <td>2828.142910</td>\n",
              "    </tr>\n",
              "    <tr>\n",
              "      <th>2</th>\n",
              "      <td>Tipo1Norm</td>\n",
              "      <td>2015</td>\n",
              "      <td>-3.436540</td>\n",
              "      <td>-51.138074</td>\n",
              "      <td>21008.893249</td>\n",
              "    </tr>\n",
              "    <tr>\n",
              "      <th>3</th>\n",
              "      <td>Tipo1Norm</td>\n",
              "      <td>2016</td>\n",
              "      <td>-68.525755</td>\n",
              "      <td>-148.459888</td>\n",
              "      <td>60032.277972</td>\n",
              "    </tr>\n",
              "    <tr>\n",
              "      <th>4</th>\n",
              "      <td>Tipo1Norm</td>\n",
              "      <td>2017</td>\n",
              "      <td>-183.787189</td>\n",
              "      <td>-148.976768</td>\n",
              "      <td>1634.592937</td>\n",
              "    </tr>\n",
              "    <tr>\n",
              "      <th>...</th>\n",
              "      <td>...</td>\n",
              "      <td>...</td>\n",
              "      <td>...</td>\n",
              "      <td>...</td>\n",
              "      <td>...</td>\n",
              "    </tr>\n",
              "    <tr>\n",
              "      <th>121</th>\n",
              "      <td>Tipo7Mini</td>\n",
              "      <td>2014</td>\n",
              "      <td>-1038.075394</td>\n",
              "      <td>-13.747736</td>\n",
              "      <td>1446.743930</td>\n",
              "    </tr>\n",
              "    <tr>\n",
              "      <th>122</th>\n",
              "      <td>Tipo7Mini</td>\n",
              "      <td>2015</td>\n",
              "      <td>-2077.075228</td>\n",
              "      <td>-78.922579</td>\n",
              "      <td>14323.219973</td>\n",
              "    </tr>\n",
              "    <tr>\n",
              "      <th>123</th>\n",
              "      <td>Tipo7Mini</td>\n",
              "      <td>2016</td>\n",
              "      <td>-490.312678</td>\n",
              "      <td>-58.828235</td>\n",
              "      <td>7273.844363</td>\n",
              "    </tr>\n",
              "    <tr>\n",
              "      <th>124</th>\n",
              "      <td>Tipo7Mini</td>\n",
              "      <td>2017</td>\n",
              "      <td>-282.030453</td>\n",
              "      <td>-19.936450</td>\n",
              "      <td>2066.100789</td>\n",
              "    </tr>\n",
              "    <tr>\n",
              "      <th>125</th>\n",
              "      <td>Tipo7Mini</td>\n",
              "      <td>2018</td>\n",
              "      <td>-802.019020</td>\n",
              "      <td>-0.385219</td>\n",
              "      <td>372.999673</td>\n",
              "    </tr>\n",
              "  </tbody>\n",
              "</table>\n",
              "<p>126 rows × 5 columns</p>\n",
              "</div>"
            ],
            "text/plain": [
              "         Var_y   Ano     R_treino      R_teste           RMSE\n",
              "0    Tipo1Norm  2013   -15.894325 -1285.948601  612679.110358\n",
              "1    Tipo1Norm  2014     0.983795    -3.436540    2828.142910\n",
              "2    Tipo1Norm  2015    -3.436540   -51.138074   21008.893249\n",
              "3    Tipo1Norm  2016   -68.525755  -148.459888   60032.277972\n",
              "4    Tipo1Norm  2017  -183.787189  -148.976768    1634.592937\n",
              "..         ...   ...          ...          ...            ...\n",
              "121  Tipo7Mini  2014 -1038.075394   -13.747736    1446.743930\n",
              "122  Tipo7Mini  2015 -2077.075228   -78.922579   14323.219973\n",
              "123  Tipo7Mini  2016  -490.312678   -58.828235    7273.844363\n",
              "124  Tipo7Mini  2017  -282.030453   -19.936450    2066.100789\n",
              "125  Tipo7Mini  2018  -802.019020    -0.385219     372.999673\n",
              "\n",
              "[126 rows x 5 columns]"
            ]
          },
          "metadata": {
            "tags": []
          },
          "execution_count": 20
        }
      ]
    },
    {
      "cell_type": "code",
      "metadata": {
        "id": "ze3ctU1nLv2I",
        "colab_type": "code",
        "outputId": "83f62901-df04-41d2-beb1-0c8410215ece",
        "colab": {
          "base_uri": "https://localhost:8080/",
          "height": 406
        }
      },
      "source": [
        "JanelaMovel_RegressaoLinear(df, df_new, 2,2)"
      ],
      "execution_count": 21,
      "outputs": [
        {
          "output_type": "execute_result",
          "data": {
            "text/html": [
              "<div>\n",
              "<style scoped>\n",
              "    .dataframe tbody tr th:only-of-type {\n",
              "        vertical-align: middle;\n",
              "    }\n",
              "\n",
              "    .dataframe tbody tr th {\n",
              "        vertical-align: top;\n",
              "    }\n",
              "\n",
              "    .dataframe thead th {\n",
              "        text-align: right;\n",
              "    }\n",
              "</style>\n",
              "<table border=\"1\" class=\"dataframe\">\n",
              "  <thead>\n",
              "    <tr style=\"text-align: right;\">\n",
              "      <th></th>\n",
              "      <th>Var_y</th>\n",
              "      <th>Ano</th>\n",
              "      <th>R_treino</th>\n",
              "      <th>R_teste</th>\n",
              "      <th>RMSE</th>\n",
              "    </tr>\n",
              "  </thead>\n",
              "  <tbody>\n",
              "    <tr>\n",
              "      <th>0</th>\n",
              "      <td>Tipo1Norm</td>\n",
              "      <td>2013</td>\n",
              "      <td>-1.316947</td>\n",
              "      <td>-0.462402</td>\n",
              "      <td>932.231718</td>\n",
              "    </tr>\n",
              "    <tr>\n",
              "      <th>1</th>\n",
              "      <td>Tipo1Norm</td>\n",
              "      <td>2014</td>\n",
              "      <td>0.230806</td>\n",
              "      <td>-1.180873</td>\n",
              "      <td>878.776617</td>\n",
              "    </tr>\n",
              "    <tr>\n",
              "      <th>2</th>\n",
              "      <td>Tipo1Norm</td>\n",
              "      <td>2015</td>\n",
              "      <td>-8.969569</td>\n",
              "      <td>-86.988734</td>\n",
              "      <td>35341.684062</td>\n",
              "    </tr>\n",
              "    <tr>\n",
              "      <th>3</th>\n",
              "      <td>Tipo1Norm</td>\n",
              "      <td>2016</td>\n",
              "      <td>-51.020985</td>\n",
              "      <td>-44.132799</td>\n",
              "      <td>491.901213</td>\n",
              "    </tr>\n",
              "    <tr>\n",
              "      <th>4</th>\n",
              "      <td>Tipo1Norm</td>\n",
              "      <td>2017</td>\n",
              "      <td>-108.127362</td>\n",
              "      <td>0.293613</td>\n",
              "      <td>497.166602</td>\n",
              "    </tr>\n",
              "    <tr>\n",
              "      <th>...</th>\n",
              "      <td>...</td>\n",
              "      <td>...</td>\n",
              "      <td>...</td>\n",
              "      <td>...</td>\n",
              "      <td>...</td>\n",
              "    </tr>\n",
              "    <tr>\n",
              "      <th>100</th>\n",
              "      <td>Tipo7Mini</td>\n",
              "      <td>2013</td>\n",
              "      <td>-398.855675</td>\n",
              "      <td>-10.583121</td>\n",
              "      <td>1136.297104</td>\n",
              "    </tr>\n",
              "    <tr>\n",
              "      <th>101</th>\n",
              "      <td>Tipo7Mini</td>\n",
              "      <td>2014</td>\n",
              "      <td>-521.717018</td>\n",
              "      <td>-5.949125</td>\n",
              "      <td>1245.378357</td>\n",
              "    </tr>\n",
              "    <tr>\n",
              "      <th>102</th>\n",
              "      <td>Tipo7Mini</td>\n",
              "      <td>2015</td>\n",
              "      <td>-359.489969</td>\n",
              "      <td>-55.290965</td>\n",
              "      <td>6843.787301</td>\n",
              "    </tr>\n",
              "    <tr>\n",
              "      <th>103</th>\n",
              "      <td>Tipo7Mini</td>\n",
              "      <td>2016</td>\n",
              "      <td>-159.488151</td>\n",
              "      <td>-15.608808</td>\n",
              "      <td>1639.030064</td>\n",
              "    </tr>\n",
              "    <tr>\n",
              "      <th>104</th>\n",
              "      <td>Tipo7Mini</td>\n",
              "      <td>2017</td>\n",
              "      <td>-140.428095</td>\n",
              "      <td>-1.302691</td>\n",
              "      <td>620.048625</td>\n",
              "    </tr>\n",
              "  </tbody>\n",
              "</table>\n",
              "<p>105 rows × 5 columns</p>\n",
              "</div>"
            ],
            "text/plain": [
              "         Var_y   Ano    R_treino    R_teste          RMSE\n",
              "0    Tipo1Norm  2013   -1.316947  -0.462402    932.231718\n",
              "1    Tipo1Norm  2014    0.230806  -1.180873    878.776617\n",
              "2    Tipo1Norm  2015   -8.969569 -86.988734  35341.684062\n",
              "3    Tipo1Norm  2016  -51.020985 -44.132799    491.901213\n",
              "4    Tipo1Norm  2017 -108.127362   0.293613    497.166602\n",
              "..         ...   ...         ...        ...           ...\n",
              "100  Tipo7Mini  2013 -398.855675 -10.583121   1136.297104\n",
              "101  Tipo7Mini  2014 -521.717018  -5.949125   1245.378357\n",
              "102  Tipo7Mini  2015 -359.489969 -55.290965   6843.787301\n",
              "103  Tipo7Mini  2016 -159.488151 -15.608808   1639.030064\n",
              "104  Tipo7Mini  2017 -140.428095  -1.302691    620.048625\n",
              "\n",
              "[105 rows x 5 columns]"
            ]
          },
          "metadata": {
            "tags": []
          },
          "execution_count": 21
        }
      ]
    },
    {
      "cell_type": "markdown",
      "metadata": {
        "id": "sTt_vfrfVqMv",
        "colab_type": "text"
      },
      "source": [
        "#Técnica de Janela Expansível:\n",
        "\n",
        "Esse tipo de Janela permite que exploremos a evolução das validações ao decorrer dos anos. Para isso utilizamos os dados de 2013 para treino e os dados de 2014 para validação. Em seguida, 2013 e 2014 para treino e 2015 para validação.\n",
        "\n",
        "Essa sequência vai até utilizarmos 2013, 2014, 2015, 2016, 2017, 2018 para treino e 2019 para validação."
      ]
    },
    {
      "cell_type": "code",
      "metadata": {
        "id": "lDSAumubn_lj",
        "colab_type": "code",
        "colab": {}
      },
      "source": [
        "def JanelaExpansivel_RegressaoLinear(df, df_new, qnt_data_1grupo=1, qnt_data_2grupo=1):\n",
        "\n",
        "  #Cria uma Lista para poder criar um DataFrame no final:\n",
        "  resultados = []\n",
        "\n",
        "  #Quais serão os anos analisados:\n",
        "  lista_anos = [\"2013\",\"2014\", \"2015\", \"2016\", \"2017\", \"2018\", \"2019\"]\n",
        "\n",
        "  for nome, dados in df_new.iteritems():\n",
        "    for pos, ano in enumerate(lista_anos):\n",
        "\n",
        "      #Variáveis Anos:\n",
        "      data_separador = str(int(ano)+qnt_data_1grupo)\n",
        "      data_fin = str(int(ano)+qnt_data_2grupo+1)\n",
        "      \n",
        "      #Quebra o laço de Repetição:\n",
        "      if str(int(data_fin)-2) == lista_anos[-1]:\n",
        "        break\n",
        "\n",
        "      #Convertendo a Series \"dados\" para um DataFrame:\n",
        "      dados = pd.DataFrame(dados)\n",
        "\n",
        "      #Criando variáveis de treino e teste de acordo com tipo de imóvel e ano:\n",
        "      X_train = df[df.index >= lista_anos[0]][df[df.index >= lista_anos[0]].index < data_separador]\n",
        "      X_test = df[df.index >= data_separador][df[df.index >= data_separador].index < data_fin]\n",
        "      y_train = dados[dados.index >= lista_anos[0]][dados[dados.index >= lista_anos[0]].index < data_separador]\n",
        "      y_test = dados[dados.index >= data_separador][dados[dados.index >= data_separador].index < data_fin]\n",
        "\n",
        "      #Criando o modelo, treinando e chutando os valores:\n",
        "      modelo = LinearRegression()\n",
        "      modelo.fit(X_train, y_train)\n",
        "      y_pred = modelo.predict(X_test)\n",
        "\n",
        "      #Variáveis para criar o DataFrame:\n",
        "      infos_de_validar = []\n",
        "      infos_de_validar = [nome, ano]\n",
        "      for i in validacao_TCC(X_train, y_train, y_test, y_pred):\n",
        "        infos_de_validar.append(i)\n",
        "        \n",
        "      resultados.append(infos_de_validar)\n",
        "\n",
        "  resultados = pd.DataFrame(resultados, columns=[\"Var_y\", \"data_separador\", \"R_treino\", \"R_teste\", \"RMSE\"])\n",
        "  return resultados"
      ],
      "execution_count": 0,
      "outputs": []
    },
    {
      "cell_type": "code",
      "metadata": {
        "id": "7Z0Cmoo4qyRX",
        "colab_type": "code",
        "colab": {
          "base_uri": "https://localhost:8080/",
          "height": 406
        },
        "outputId": "ee721328-477b-4ab1-ada7-e3d31f2fd17e"
      },
      "source": [
        "JanelaExpansivel_RegressaoLinear(df, df_new, 1, 1)"
      ],
      "execution_count": 23,
      "outputs": [
        {
          "output_type": "execute_result",
          "data": {
            "text/html": [
              "<div>\n",
              "<style scoped>\n",
              "    .dataframe tbody tr th:only-of-type {\n",
              "        vertical-align: middle;\n",
              "    }\n",
              "\n",
              "    .dataframe tbody tr th {\n",
              "        vertical-align: top;\n",
              "    }\n",
              "\n",
              "    .dataframe thead th {\n",
              "        text-align: right;\n",
              "    }\n",
              "</style>\n",
              "<table border=\"1\" class=\"dataframe\">\n",
              "  <thead>\n",
              "    <tr style=\"text-align: right;\">\n",
              "      <th></th>\n",
              "      <th>Var_y</th>\n",
              "      <th>data_separador</th>\n",
              "      <th>R_treino</th>\n",
              "      <th>R_teste</th>\n",
              "      <th>RMSE</th>\n",
              "    </tr>\n",
              "  </thead>\n",
              "  <tbody>\n",
              "    <tr>\n",
              "      <th>0</th>\n",
              "      <td>Tipo1Norm</td>\n",
              "      <td>2013</td>\n",
              "      <td>-15.894325</td>\n",
              "      <td>-1285.948601</td>\n",
              "      <td>612679.110358</td>\n",
              "    </tr>\n",
              "    <tr>\n",
              "      <th>1</th>\n",
              "      <td>Tipo1Norm</td>\n",
              "      <td>2014</td>\n",
              "      <td>-1.316947</td>\n",
              "      <td>-0.462402</td>\n",
              "      <td>932.231718</td>\n",
              "    </tr>\n",
              "    <tr>\n",
              "      <th>2</th>\n",
              "      <td>Tipo1Norm</td>\n",
              "      <td>2015</td>\n",
              "      <td>0.183335</td>\n",
              "      <td>-6.901753</td>\n",
              "      <td>3183.989581</td>\n",
              "    </tr>\n",
              "    <tr>\n",
              "      <th>3</th>\n",
              "      <td>Tipo1Norm</td>\n",
              "      <td>2016</td>\n",
              "      <td>-0.698572</td>\n",
              "      <td>-37.756989</td>\n",
              "      <td>15567.189139</td>\n",
              "    </tr>\n",
              "    <tr>\n",
              "      <th>4</th>\n",
              "      <td>Tipo1Norm</td>\n",
              "      <td>2017</td>\n",
              "      <td>-1.935706</td>\n",
              "      <td>-231.199709</td>\n",
              "      <td>2530.738666</td>\n",
              "    </tr>\n",
              "    <tr>\n",
              "      <th>...</th>\n",
              "      <td>...</td>\n",
              "      <td>...</td>\n",
              "      <td>...</td>\n",
              "      <td>...</td>\n",
              "      <td>...</td>\n",
              "    </tr>\n",
              "    <tr>\n",
              "      <th>121</th>\n",
              "      <td>Tipo7Mini</td>\n",
              "      <td>2014</td>\n",
              "      <td>-398.855675</td>\n",
              "      <td>-10.583121</td>\n",
              "      <td>1136.297104</td>\n",
              "    </tr>\n",
              "    <tr>\n",
              "      <th>122</th>\n",
              "      <td>Tipo7Mini</td>\n",
              "      <td>2015</td>\n",
              "      <td>-234.413731</td>\n",
              "      <td>-4.731752</td>\n",
              "      <td>1027.208464</td>\n",
              "    </tr>\n",
              "    <tr>\n",
              "      <th>123</th>\n",
              "      <td>Tipo7Mini</td>\n",
              "      <td>2016</td>\n",
              "      <td>-107.494758</td>\n",
              "      <td>-28.622142</td>\n",
              "      <td>3601.424184</td>\n",
              "    </tr>\n",
              "    <tr>\n",
              "      <th>124</th>\n",
              "      <td>Tipo7Mini</td>\n",
              "      <td>2017</td>\n",
              "      <td>-56.905640</td>\n",
              "      <td>-38.784196</td>\n",
              "      <td>3926.079175</td>\n",
              "    </tr>\n",
              "    <tr>\n",
              "      <th>125</th>\n",
              "      <td>Tipo7Mini</td>\n",
              "      <td>2018</td>\n",
              "      <td>-35.746087</td>\n",
              "      <td>-0.425293</td>\n",
              "      <td>383.790421</td>\n",
              "    </tr>\n",
              "  </tbody>\n",
              "</table>\n",
              "<p>126 rows × 5 columns</p>\n",
              "</div>"
            ],
            "text/plain": [
              "         Var_y data_separador    R_treino      R_teste           RMSE\n",
              "0    Tipo1Norm           2013  -15.894325 -1285.948601  612679.110358\n",
              "1    Tipo1Norm           2014   -1.316947    -0.462402     932.231718\n",
              "2    Tipo1Norm           2015    0.183335    -6.901753    3183.989581\n",
              "3    Tipo1Norm           2016   -0.698572   -37.756989   15567.189139\n",
              "4    Tipo1Norm           2017   -1.935706  -231.199709    2530.738666\n",
              "..         ...            ...         ...          ...            ...\n",
              "121  Tipo7Mini           2014 -398.855675   -10.583121    1136.297104\n",
              "122  Tipo7Mini           2015 -234.413731    -4.731752    1027.208464\n",
              "123  Tipo7Mini           2016 -107.494758   -28.622142    3601.424184\n",
              "124  Tipo7Mini           2017  -56.905640   -38.784196    3926.079175\n",
              "125  Tipo7Mini           2018  -35.746087    -0.425293     383.790421\n",
              "\n",
              "[126 rows x 5 columns]"
            ]
          },
          "metadata": {
            "tags": []
          },
          "execution_count": 23
        }
      ]
    },
    {
      "cell_type": "code",
      "metadata": {
        "id": "EJ2HQDsQupUq",
        "colab_type": "code",
        "colab": {}
      },
      "source": [
        ""
      ],
      "execution_count": 0,
      "outputs": []
    }
  ]
}